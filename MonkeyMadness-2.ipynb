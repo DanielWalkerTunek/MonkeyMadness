{
  "cells": [
    {
      "cell_type": "markdown",
      "metadata": {
        "id": "31MH5d_PWYXz"
      },
      "source": [
        "# MonkeyMadness"
      ]
    },
    {
      "cell_type": "markdown",
      "metadata": {
        "id": "IRHMee-SWYX0"
      },
      "source": [
        "# 1.Enable GPU & SETUP ENVIROMENT\n",
        "#### Deep learning algorithms are computationally intensive, and using a GPU can significantly reduce training times. Follow these steps to enable GPU acceleration:\n",
        "##### Enabling GPU in Google Colab (Recomended)\n",
        "1. Navigate to the top menu and click on \"Runtime\"\n",
        "2. Select \"Change runtime type\"\n",
        "3. In the dialog box:\n",
        "    - Choose the appropriate runtime type (typically Python 3)\n",
        "    - Set the \"Hardware accelerator\" to \"GPU\"\n",
        "    - A Tesla T4 GPU is typically available for free users\n",
        "4. Click \"Save\" to apply the changes\n",
        "#### Local Machine Setup\n",
        "- M1 chip or later (mac)\n",
        "- CUDA already installed (Windows/Linux)\n",
        "- Make sure to install req_local.txt in code block 2 \"Setup Environment\"\n",
        "##### Performance: 30 epochs take ~20 minutes on T4 and might be faster on your own gpu"
      ]
    },
    {
      "cell_type": "code",
      "execution_count": null,
      "metadata": {
        "colab": {
          "base_uri": "https://localhost:8080/"
        },
        "id": "NmBpxoL3WYX0",
        "outputId": "afe954e7-848a-485e-a116-e076d6109f79"
      },
      "outputs": [
        {
          "output_type": "stream",
          "name": "stdout",
          "text": [
            "Cloning into 'MonkeyMadness'...\n",
            "remote: Enumerating objects: 1452, done.\u001b[K\n",
            "remote: Counting objects: 100% (147/147), done.\u001b[K\n",
            "remote: Compressing objects: 100% (107/107), done.\u001b[K\n",
            "remote: Total 1452 (delta 79), reused 91 (delta 37), pack-reused 1305 (from 1)\u001b[K\n",
            "Receiving objects: 100% (1452/1452), 579.57 MiB | 17.21 MiB/s, done.\n",
            "Resolving deltas: 100% (80/80), done.\n",
            "Updating files: 100% (1117/1117), done.\n",
            "Current working directory: /content\n",
            "/content/MonkeyMadness\n",
            "Collecting torchlens (from -r req_colab.txt (line 1))\n",
            "  Downloading torchlens-0.1.24-py2.py3-none-any.whl.metadata (1.1 kB)\n",
            "Requirement already satisfied: torchsummary in /usr/local/lib/python3.10/dist-packages (from -r req_colab.txt (line 2)) (1.5.1)\n",
            "Collecting onnx (from -r req_colab.txt (line 3))\n",
            "  Downloading onnx-1.17.0-cp310-cp310-manylinux_2_17_x86_64.manylinux2014_x86_64.whl.metadata (16 kB)\n",
            "Collecting livelossplot (from -r req_colab.txt (line 4))\n",
            "  Downloading livelossplot-0.5.5-py3-none-any.whl.metadata (8.7 kB)\n",
            "Requirement already satisfied: numpy in /usr/local/lib/python3.10/dist-packages (from torchlens->-r req_colab.txt (line 1)) (1.26.4)\n",
            "Requirement already satisfied: pandas in /usr/local/lib/python3.10/dist-packages (from torchlens->-r req_colab.txt (line 1)) (2.2.2)\n",
            "Requirement already satisfied: pytest in /usr/local/lib/python3.10/dist-packages (from torchlens->-r req_colab.txt (line 1)) (8.3.3)\n",
            "Requirement already satisfied: tqdm in /usr/local/lib/python3.10/dist-packages (from torchlens->-r req_colab.txt (line 1)) (4.66.6)\n",
            "Requirement already satisfied: ipython in /usr/local/lib/python3.10/dist-packages (from torchlens->-r req_colab.txt (line 1)) (7.34.0)\n",
            "Requirement already satisfied: graphviz in /usr/local/lib/python3.10/dist-packages (from torchlens->-r req_colab.txt (line 1)) (0.20.3)\n",
            "Requirement already satisfied: protobuf>=3.20.2 in /usr/local/lib/python3.10/dist-packages (from onnx->-r req_colab.txt (line 3)) (4.25.5)\n",
            "Requirement already satisfied: matplotlib in /usr/local/lib/python3.10/dist-packages (from livelossplot->-r req_colab.txt (line 4)) (3.8.0)\n",
            "Requirement already satisfied: bokeh in /usr/local/lib/python3.10/dist-packages (from livelossplot->-r req_colab.txt (line 4)) (3.6.1)\n",
            "Requirement already satisfied: Jinja2>=2.9 in /usr/local/lib/python3.10/dist-packages (from bokeh->livelossplot->-r req_colab.txt (line 4)) (3.1.4)\n",
            "Requirement already satisfied: contourpy>=1.2 in /usr/local/lib/python3.10/dist-packages (from bokeh->livelossplot->-r req_colab.txt (line 4)) (1.3.1)\n",
            "Requirement already satisfied: packaging>=16.8 in /usr/local/lib/python3.10/dist-packages (from bokeh->livelossplot->-r req_colab.txt (line 4)) (24.2)\n",
            "Requirement already satisfied: pillow>=7.1.0 in /usr/local/lib/python3.10/dist-packages (from bokeh->livelossplot->-r req_colab.txt (line 4)) (11.0.0)\n",
            "Requirement already satisfied: PyYAML>=3.10 in /usr/local/lib/python3.10/dist-packages (from bokeh->livelossplot->-r req_colab.txt (line 4)) (6.0.2)\n",
            "Requirement already satisfied: tornado>=6.2 in /usr/local/lib/python3.10/dist-packages (from bokeh->livelossplot->-r req_colab.txt (line 4)) (6.3.3)\n",
            "Requirement already satisfied: xyzservices>=2021.09.1 in /usr/local/lib/python3.10/dist-packages (from bokeh->livelossplot->-r req_colab.txt (line 4)) (2024.9.0)\n",
            "Requirement already satisfied: python-dateutil>=2.8.2 in /usr/local/lib/python3.10/dist-packages (from pandas->torchlens->-r req_colab.txt (line 1)) (2.8.2)\n",
            "Requirement already satisfied: pytz>=2020.1 in /usr/local/lib/python3.10/dist-packages (from pandas->torchlens->-r req_colab.txt (line 1)) (2024.2)\n",
            "Requirement already satisfied: tzdata>=2022.7 in /usr/local/lib/python3.10/dist-packages (from pandas->torchlens->-r req_colab.txt (line 1)) (2024.2)\n",
            "Requirement already satisfied: setuptools>=18.5 in /usr/local/lib/python3.10/dist-packages (from ipython->torchlens->-r req_colab.txt (line 1)) (75.1.0)\n",
            "Collecting jedi>=0.16 (from ipython->torchlens->-r req_colab.txt (line 1))\n",
            "  Downloading jedi-0.19.2-py2.py3-none-any.whl.metadata (22 kB)\n",
            "Requirement already satisfied: decorator in /usr/local/lib/python3.10/dist-packages (from ipython->torchlens->-r req_colab.txt (line 1)) (4.4.2)\n",
            "Requirement already satisfied: pickleshare in /usr/local/lib/python3.10/dist-packages (from ipython->torchlens->-r req_colab.txt (line 1)) (0.7.5)\n",
            "Requirement already satisfied: traitlets>=4.2 in /usr/local/lib/python3.10/dist-packages (from ipython->torchlens->-r req_colab.txt (line 1)) (5.7.1)\n",
            "Requirement already satisfied: prompt-toolkit!=3.0.0,!=3.0.1,<3.1.0,>=2.0.0 in /usr/local/lib/python3.10/dist-packages (from ipython->torchlens->-r req_colab.txt (line 1)) (3.0.48)\n",
            "Requirement already satisfied: pygments in /usr/local/lib/python3.10/dist-packages (from ipython->torchlens->-r req_colab.txt (line 1)) (2.18.0)\n",
            "Requirement already satisfied: backcall in /usr/local/lib/python3.10/dist-packages (from ipython->torchlens->-r req_colab.txt (line 1)) (0.2.0)\n",
            "Requirement already satisfied: matplotlib-inline in /usr/local/lib/python3.10/dist-packages (from ipython->torchlens->-r req_colab.txt (line 1)) (0.1.7)\n",
            "Requirement already satisfied: pexpect>4.3 in /usr/local/lib/python3.10/dist-packages (from ipython->torchlens->-r req_colab.txt (line 1)) (4.9.0)\n",
            "Requirement already satisfied: cycler>=0.10 in /usr/local/lib/python3.10/dist-packages (from matplotlib->livelossplot->-r req_colab.txt (line 4)) (0.12.1)\n",
            "Requirement already satisfied: fonttools>=4.22.0 in /usr/local/lib/python3.10/dist-packages (from matplotlib->livelossplot->-r req_colab.txt (line 4)) (4.55.0)\n",
            "Requirement already satisfied: kiwisolver>=1.0.1 in /usr/local/lib/python3.10/dist-packages (from matplotlib->livelossplot->-r req_colab.txt (line 4)) (1.4.7)\n",
            "Requirement already satisfied: pyparsing>=2.3.1 in /usr/local/lib/python3.10/dist-packages (from matplotlib->livelossplot->-r req_colab.txt (line 4)) (3.2.0)\n",
            "Requirement already satisfied: iniconfig in /usr/local/lib/python3.10/dist-packages (from pytest->torchlens->-r req_colab.txt (line 1)) (2.0.0)\n",
            "Requirement already satisfied: pluggy<2,>=1.5 in /usr/local/lib/python3.10/dist-packages (from pytest->torchlens->-r req_colab.txt (line 1)) (1.5.0)\n",
            "Requirement already satisfied: exceptiongroup>=1.0.0rc8 in /usr/local/lib/python3.10/dist-packages (from pytest->torchlens->-r req_colab.txt (line 1)) (1.2.2)\n",
            "Requirement already satisfied: tomli>=1 in /usr/local/lib/python3.10/dist-packages (from pytest->torchlens->-r req_colab.txt (line 1)) (2.1.0)\n",
            "Requirement already satisfied: parso<0.9.0,>=0.8.4 in /usr/local/lib/python3.10/dist-packages (from jedi>=0.16->ipython->torchlens->-r req_colab.txt (line 1)) (0.8.4)\n",
            "Requirement already satisfied: MarkupSafe>=2.0 in /usr/local/lib/python3.10/dist-packages (from Jinja2>=2.9->bokeh->livelossplot->-r req_colab.txt (line 4)) (3.0.2)\n",
            "Requirement already satisfied: ptyprocess>=0.5 in /usr/local/lib/python3.10/dist-packages (from pexpect>4.3->ipython->torchlens->-r req_colab.txt (line 1)) (0.7.0)\n",
            "Requirement already satisfied: wcwidth in /usr/local/lib/python3.10/dist-packages (from prompt-toolkit!=3.0.0,!=3.0.1,<3.1.0,>=2.0.0->ipython->torchlens->-r req_colab.txt (line 1)) (0.2.13)\n",
            "Requirement already satisfied: six>=1.5 in /usr/local/lib/python3.10/dist-packages (from python-dateutil>=2.8.2->pandas->torchlens->-r req_colab.txt (line 1)) (1.16.0)\n",
            "Downloading torchlens-0.1.24-py2.py3-none-any.whl (84 kB)\n",
            "\u001b[2K   \u001b[90m━━━━━━━━━━━━━━━━━━━━━━━━━━━━━━━━━━━━━━━━\u001b[0m \u001b[32m84.8/84.8 kB\u001b[0m \u001b[31m7.7 MB/s\u001b[0m eta \u001b[36m0:00:00\u001b[0m\n",
            "\u001b[?25hDownloading onnx-1.17.0-cp310-cp310-manylinux_2_17_x86_64.manylinux2014_x86_64.whl (16.0 MB)\n",
            "\u001b[2K   \u001b[90m━━━━━━━━━━━━━━━━━━━━━━━━━━━━━━━━━━━━━━━━\u001b[0m \u001b[32m16.0/16.0 MB\u001b[0m \u001b[31m19.8 MB/s\u001b[0m eta \u001b[36m0:00:00\u001b[0m\n",
            "\u001b[?25hDownloading livelossplot-0.5.5-py3-none-any.whl (22 kB)\n",
            "Downloading jedi-0.19.2-py2.py3-none-any.whl (1.6 MB)\n",
            "\u001b[2K   \u001b[90m━━━━━━━━━━━━━━━━━━━━━━━━━━━━━━━━━━━━━━━━\u001b[0m \u001b[32m1.6/1.6 MB\u001b[0m \u001b[31m76.2 MB/s\u001b[0m eta \u001b[36m0:00:00\u001b[0m\n",
            "\u001b[?25hInstalling collected packages: onnx, jedi, torchlens, livelossplot\n",
            "Successfully installed jedi-0.19.2 livelossplot-0.5.5 onnx-1.17.0 torchlens-0.1.24\n",
            "✅ Using CUDA GPU: Tesla T4 ✅\n",
            "CUDA Device Name: Tesla T4\n",
            "CUDA Device Count: 1\n",
            "CUDA Current Device: 0\n",
            "Wed Dec  4 16:48:03 2024       \n",
            "+---------------------------------------------------------------------------------------+\n",
            "| NVIDIA-SMI 535.104.05             Driver Version: 535.104.05   CUDA Version: 12.2     |\n",
            "|-----------------------------------------+----------------------+----------------------+\n",
            "| GPU  Name                 Persistence-M | Bus-Id        Disp.A | Volatile Uncorr. ECC |\n",
            "| Fan  Temp   Perf          Pwr:Usage/Cap |         Memory-Usage | GPU-Util  Compute M. |\n",
            "|                                         |                      |               MIG M. |\n",
            "|=========================================+======================+======================|\n",
            "|   0  Tesla T4                       Off | 00000000:00:04.0 Off |                    0 |\n",
            "| N/A   47C    P8               9W /  70W |      3MiB / 15360MiB |      0%      Default |\n",
            "|                                         |                      |                  N/A |\n",
            "+-----------------------------------------+----------------------+----------------------+\n",
            "                                                                                         \n",
            "+---------------------------------------------------------------------------------------+\n",
            "| Processes:                                                                            |\n",
            "|  GPU   GI   CI        PID   Type   Process name                            GPU Memory |\n",
            "|        ID   ID                                                             Usage      |\n",
            "|=======================================================================================|\n",
            "|  No running processes found                                                           |\n",
            "+---------------------------------------------------------------------------------------+\n"
          ]
        }
      ],
      "source": [
        "import os #if os not available, add pip install\n",
        "import torch #if not available on local, add !pip install torch before\n",
        "\n",
        "current_dir = os.getcwd()\n",
        "\n",
        "\n",
        "# Check if already in MonkeyMadness directory\n",
        "if current_dir.endswith('MonkeyMadness'): #prevent nested cloning of repo\n",
        "    print(\"✅ Already in MonkeyMadness directory, no need to clone again ✅\")\n",
        "else:\n",
        "    # Safe cloning if not in the directory\n",
        "    !git clone https://github.com/LiU-AI-Society/MonkeyMadness.git\n",
        "    HOME = os.getcwd()\n",
        "    print(f\"Current working directory: {HOME}\")\n",
        "    %cd {HOME}/MonkeyMadness\n",
        "\n",
        "    %pip install -r req_colab.txt  # Change to req_local.txt if on local machine, done with python version 3.12.1. make sure to restart the kernel after\n",
        "\n",
        "\n",
        "from get_device import DeviceManager\n",
        "\n",
        "# Get the device\n",
        "device = DeviceManager.get_device()\n",
        "\n",
        "# Print detailed device information\n",
        "DeviceManager.print_device_info(device)\n",
        "\n",
        "# Optional additional checks\n",
        "if device.type == 'cuda':\n",
        "    !nvidia-smi"
      ]
    },
    {
      "cell_type": "markdown",
      "metadata": {
        "id": "_KbGnnevWYX1"
      },
      "source": [
        "# 2. CONVOLUTION BLOCK\n",
        "\n",
        "This is just to get a feeling of the convolutional operation"
      ]
    },
    {
      "cell_type": "code",
      "execution_count": null,
      "metadata": {
        "id": "SEfUlLu1WYX2"
      },
      "outputs": [],
      "source": [
        "import torch\n",
        "import torchvision.transforms as transforms\n",
        "from PIL import Image\n",
        "import matplotlib.pyplot as plt\n",
        "import torch.nn.functional as F\n",
        "from convolution import perform_convolution, plot_images\n",
        "\n",
        "# Load the image\n",
        "image_path = 'Monkey/training/training/n7/n7023.jpg'\n",
        "image = Image.open(image_path).convert(\"RGB\")\n",
        "\n",
        "# Transform the image to a tensor\n",
        "transform = transforms.ToTensor()\n",
        "image_tensor = transform(image).unsqueeze(0)  # Add batch dimension\n",
        "\n",
        "# Define vertical and horizontal line detection kernels\n",
        "vertical_line_kernel = torch.tensor([[-1.0, 0.0, 1.0],\n",
        "                                     [-1.0, 0.0, 1.0],\n",
        "                                     [-1.0, 0.0, 1.0]], dtype=torch.float32)\n",
        "\n",
        "horizontal_line_kernel = torch.tensor([[-1.0, -1.0, -1.0],\n",
        "                                       [0.0,  0.0,  0.0],\n",
        "                                       [1.0,  1.0,  1.0]], dtype=torch.float32)\n",
        "\n",
        "# Perform the convolutions\n",
        "horizontal_lines_image = perform_convolution(horizontal_line_kernel, image)\n",
        "vertical_line_image = perform_convolution(vertical_line_kernel, image)\n",
        "\n",
        "# plot the result\n",
        "\n",
        "plot_images(image, vertical_line_image, horizontal_lines_image)"
      ]
    },
    {
      "cell_type": "markdown",
      "metadata": {
        "id": "AC-aLIY6WYX2"
      },
      "source": [
        "# 3. DATASET BLOCK\n",
        "### You will use a monkey dataset consisting of ca 1000 images of monkey. The goal is to be able to classify them.\n",
        "### There are ten monkey classes\n"
      ]
    },
    {
      "cell_type": "code",
      "execution_count": null,
      "metadata": {
        "id": "gLa1hu6oWYX2"
      },
      "outputs": [],
      "source": [
        "from torchvision import transforms, utils\n",
        "from Dataset import CustomImageDataset, MonkeyImageDataset\n",
        "\n",
        "NUM_OF_CLASSES = 10\n",
        "IMAGE_SIZE = (64, 64) # DO NOT ALTER THIS PARAMETER\n",
        "\n",
        "DATA_PERCENTAGE = 0.5\n",
        "transform = transforms.Compose([\n",
        "    #Randomly flip the images vertically\n",
        "    #transforms.RandomVerticalFlip(p=0.2),  # Randomly flip the image vertically with 20% probability\n",
        "    #transforms.RandomHorizontalFlip(p=0.2),  # Randomly flip the image horizontally with 20% probability\n",
        "    #transforms.RandomRotation(degrees=15),  # Rotate the image randomly within a 15-degree range\n",
        "    #transforms.ColorJitter(brightness=0.2, contrast=0.2, saturation=0.2, hue=0.1),  # Randomly change brightness, contrast, etc.\n",
        "    transforms.ToTensor(),\n",
        "    transforms.Resize((IMAGE_SIZE[0], IMAGE_SIZE[1])),\n",
        "\n",
        "    #for imagenet\n",
        "    #transforms.Normalize(mean=[0.485, 0.456, 0.406], std=[0.229, 0.224, 0.225])\n",
        "])\n",
        "dataset = MonkeyImageDataset('Monkey/training/training', transform, NUM_OF_CLASSES, data_percentage = DATA_PERCENTAGE )\n",
        "dataset.visualize(5)\n",
        "#dataset.visualize_all_classes()\n"
      ]
    },
    {
      "cell_type": "markdown",
      "metadata": {
        "id": "A_sK5ThfWYX2"
      },
      "source": [
        "# 4. MODEL BLOCK\n",
        "## Let's define our model!\n",
        "### Lets build a Convolutional Neural Network (CNN). It uses convolutions (one can think of it as filters) to learn the different classes"
      ]
    },
    {
      "cell_type": "code",
      "execution_count": null,
      "metadata": {
        "id": "vsJMgwiiWYX2"
      },
      "outputs": [],
      "source": [
        "#MODEL CODE BLOCK\n",
        "\n",
        "import torch.nn as nn\n",
        "import torch.nn.functional as F\n",
        "import torch\n",
        "from torchsummary import summary\n",
        "\n",
        "\n",
        "class MonkeyNET(nn.Module):\n",
        "    def __init__(self, num_classes=10, input_size=(500, 500)):\n",
        "        super(MonkeyNET, self).__init__()\n",
        "\n",
        "        # First convolutional layer: 3 input channels (RGB),  output channels, kernel size 5, padding 2 to preserve size\n",
        "        self.conv1 = nn.Conv2d(in_channels=3, out_channels=32, kernel_size=3, padding=1)\n",
        "        self.conv2 = nn.Conv2d(in_channels=32, out_channels=16, kernel_size=3, padding=1)\n",
        "        # Calculate the size of the fully connected layer dynamically\n",
        "        self.fc_input_size = self._get_fc_input_size(input_size)\n",
        "        self.fc = nn.Linear(self.fc_input_size, num_classes) # Adjusted for the final size after pooling\n",
        "\n",
        "\n",
        "    def _get_fc_input_size(self, input_size):\n",
        "        x = torch.zeros(1, 3, *input_size) # Create a dummy input tensor\n",
        "        #x = self.attention(x)\n",
        "        x = F.relu(self.conv1(x))\n",
        "        x = F.max_pool2d(x, kernel_size=(4, 4), stride=4)\n",
        "\n",
        "        x = F.relu(self.conv2(x))\n",
        "\n",
        "        x = F.max_pool2d(x, kernel_size=(8, 8), stride=8)\n",
        "\n",
        "\n",
        "        return x.numel() # Total number of elements after conv layers\n",
        "\n",
        "    def forward(self, x):\n",
        "        # First conv -> ReLU -> Max Pooling\n",
        "        x = F.relu(self.conv1(x))\n",
        "\n",
        "\n",
        "        x = F.max_pool2d(x, kernel_size=(4, 4), stride=4)\n",
        "\n",
        "        x = F.relu(self.conv2(x))\n",
        "\n",
        "        x = F.max_pool2d(x, kernel_size=(8, 8), stride=8)\n",
        "\n",
        "\n",
        "\n",
        "\n",
        "        # Flatten the tensor for fully connected layer\n",
        "        x = x.view(x.size(0), -1)\n",
        "\n",
        "        # Fully connected layer -> ReLU\n",
        "        x = self.fc(x)\n",
        "\n",
        "        return x\n",
        "\n",
        "model = MonkeyNET(num_classes=NUM_OF_CLASSES, input_size=IMAGE_SIZE).to(device) #delete .to(device) if m1\n",
        "\n",
        "summary(model, (3, IMAGE_SIZE[0], IMAGE_SIZE[1]))"
      ]
    },
    {
      "cell_type": "markdown",
      "metadata": {
        "id": "BFta3iR5WYX3"
      },
      "source": [
        "# 5. TRAINING BLOCK"
      ]
    },
    {
      "cell_type": "code",
      "execution_count": null,
      "metadata": {
        "id": "fLCoboBMWYX3"
      },
      "outputs": [],
      "source": [
        "from train import train, training_info\n",
        "from test_model import test\n",
        "import torch.optim\n",
        "from torch.utils.data import DataLoader, random_split\n",
        "import torch.nn as nn\n",
        "import torchvision.models as models\n",
        "import datetime\n",
        "from GradCam import GradCAM, generate_and_save_grad_cams\n",
        "import numpy as np\n",
        "current_datetime = datetime.datetime.now()\n",
        "\n",
        "\n",
        "\n",
        "EPOCHS = 40 # how long should the model train\n",
        "MODEL_NAME = \"groupname and what you are testing\"  #name for the training run to be able to compare\n",
        "\n",
        "\n",
        "ID = f\"{current_datetime.hour:02}:{current_datetime.minute:02}\"\n",
        "LR = 0.01   # how \"much\" should the model learn\n",
        "BATCH_SIZE = 8  # how many images should the model see before updating\n",
        "\n",
        "model_info = {\n",
        "            'epochs' : EPOCHS,\n",
        "            'batch_size' : BATCH_SIZE,\n",
        "            'lr' : LR,\n",
        "            'ID' : ID,\n",
        "            'model_name' : MODEL_NAME\n",
        "}\n",
        "\n",
        "dataset_size = len(dataset)\n",
        "train_size = int(0.8 * dataset_size)  # 80% for training\n",
        "val_size = dataset_size - train_size   # 20% for validation\n",
        "criterion = nn.CrossEntropyLoss() #This is the loss function\n",
        "\n",
        "# Split the dataset\n",
        "train_dataset, val_dataset = random_split(dataset, [train_size, val_size])\n",
        "\n",
        "# Create DataLoaders for training and validation sets\n",
        "train_loader = DataLoader(dataset=train_dataset, batch_size=BATCH_SIZE, shuffle=True)\n",
        "val_loader = DataLoader(dataset=val_dataset, batch_size=1, shuffle=False)\n",
        "\n",
        "# Initialize the model\n",
        "model = MonkeyNET(num_classes=NUM_OF_CLASSES, input_size=IMAGE_SIZE)\n",
        "\n",
        "# Create optimizers for the model. This will try to find the optimal parameters in the model i.e this adjusts the model to improve the loss\n",
        "optimizer = torch.optim.SGD(model.parameters(), lr=LR)\n",
        "\n",
        "# Move models to gpu and train\n",
        "model.to(device)\n",
        "model, t_loss, t_acc, v_loss, v_acc = train(model, train_loader, val_loader, optimizer, criterion, device, start_epoch=0, num_epochs=EPOCHS, model_name=MODEL_NAME, unique_id=ID)\n",
        "\n",
        "\n",
        "model_info['t_loss'] = t_loss\n",
        "model_info['t_acc'] = t_acc\n",
        "\n",
        "model_info['v_loss'] = v_loss\n",
        "model_info['v_acc'] = v_acc\n",
        "\n",
        "training_info(model_info=model_info)\n",
        "\n",
        "# see metrics on the validation set\n",
        "\n",
        "acc = test(model=model, testloader=val_loader, device=device, model_name=MODEL_NAME, unique_id=ID)\n",
        "\n"
      ]
    },
    {
      "cell_type": "markdown",
      "metadata": {
        "id": "T2AGKDN0WYX3"
      },
      "source": [
        "# 6.GradCAM block: The red parts are what the model \"looks\" at for making it's prediction"
      ]
    },
    {
      "cell_type": "code",
      "execution_count": null,
      "metadata": {
        "id": "MWCN_qjTWYX3"
      },
      "outputs": [],
      "source": [
        "# x-AI block\n",
        "\n",
        "common_names = [\n",
        "    \"mantled_howler\",\n",
        "    \"patas_monkey\",\n",
        "    \"bald_uakari\",\n",
        "    \"japanese_macaque\",\n",
        "    \"pygmy_marmoset\",\n",
        "    \"white_headed_capuchin\",\n",
        "    \"silvery_marmoset\",\n",
        "    \"common_squirrel_monkey\",\n",
        "    \"black_headed_night_monkey\",\n",
        "    \"nilgiri_langur\"\n",
        "]\n",
        "\n",
        "\n",
        "grad_cam = GradCAM(model=model, target_layer=model.conv2) # change target layer to the last conv layer if you add more\n",
        "\n",
        "generate_and_save_grad_cams(model, grad_cam, val_loader, common_names, save_dir=\"grads\", device=device, index=np.random.randint(len(val_loader)))"
      ]
    },
    {
      "cell_type": "markdown",
      "metadata": {
        "id": "_BXwQne8WYX3"
      },
      "source": [
        "# 7 COMPARING BLOCK\n",
        "## See all performed experiments in graph to compare models"
      ]
    },
    {
      "cell_type": "code",
      "execution_count": null,
      "metadata": {
        "id": "ZNjY_kxRWYX3"
      },
      "outputs": [],
      "source": [
        "import matplotlib.pyplot as plt\n",
        "from train import plot_experiments\n",
        "\n",
        "plot_experiments('training_metrics')"
      ]
    },
    {
      "cell_type": "markdown",
      "metadata": {
        "id": "YzN013jaWYX3"
      },
      "source": [
        "# Send your best model to us for us to run it on a test set!\n",
        "\n",
        "## Upload to google drive folder"
      ]
    }
  ],
  "metadata": {
    "kernelspec": {
      "display_name": "Python 3",
      "name": "python3"
    },
    "language_info": {
      "codemirror_mode": {
        "name": "ipython",
        "version": 3
      },
      "file_extension": ".py",
      "mimetype": "text/x-python",
      "name": "python",
      "nbconvert_exporter": "python",
      "pygments_lexer": "ipython3",
      "version": "3.9.19"
    },
    "colab": {
      "provenance": [],
      "gpuType": "T4"
    },
    "accelerator": "GPU"
  },
  "nbformat": 4,
  "nbformat_minor": 0
}